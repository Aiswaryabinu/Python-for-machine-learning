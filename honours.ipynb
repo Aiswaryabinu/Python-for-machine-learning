{
  "nbformat": 4,
  "nbformat_minor": 0,
  "metadata": {
    "colab": {
      "provenance": [],
      "include_colab_link": true
    },
    "kernelspec": {
      "name": "python3",
      "display_name": "Python 3"
    },
    "language_info": {
      "name": "python"
    }
  },
  "cells": [
    {
      "cell_type": "markdown",
      "metadata": {
        "id": "view-in-github",
        "colab_type": "text"
      },
      "source": [
        "<a href=\"https://colab.research.google.com/github/Aiswaryabinu/Python-for-machine-learning/blob/main/honours.ipynb\" target=\"_parent\"><img src=\"https://colab.research.google.com/assets/colab-badge.svg\" alt=\"Open In Colab\"/></a>"
      ]
    },
    {
      "cell_type": "markdown",
      "source": [
        "# **MODULE 3**"
      ],
      "metadata": {
        "id": "Guv_4LAYEg8I"
      }
    },
    {
      "cell_type": "markdown",
      "source": [
        "**1. Python Lists**  \n",
        "Lists are ordered, **mutable** (changeable) collections that can hold elements of **different data types**.\n",
        "In Python, a list is a built-in dynamic sized array (automatically grows and shrinks). We can store all types of items (including another list) in a list. A list may contain mixed type of items, this is possible because a list mainly stores references at contiguous locations and actual items maybe stored at different locations.\n",
        "\n",
        "    List can contain duplicate items.\n",
        "    List in Python are Mutable. Hence, we can modify, replace or delete the items.\n",
        "    List are ordered. It maintain the order of elements based on how they are added.\n",
        "    Accessing items in List can be done directly using their position (index), starting from 0."
      ],
      "metadata": {
        "id": "Ql0wrVTDI9Rn"
      }
    },
    {
      "cell_type": "markdown",
      "source": [
        "These are the basic list functions:"
      ],
      "metadata": {
        "id": "NGzeLmR2LAPn"
      }
    },
    {
      "cell_type": "code",
      "execution_count": null,
      "metadata": {
        "colab": {
          "base_uri": "https://localhost:8080/"
        },
        "id": "JqkyROYwETHz",
        "outputId": "2878a5a9-8dd3-4a73-ec69-aa609a02af86"
      },
      "outputs": [
        {
          "output_type": "stream",
          "name": "stdout",
          "text": [
            "[1, 2, 3, 4]\n",
            "[1, 2, 3, 4, 5]\n",
            "[1, 2, 10, 3, 4, 5]\n",
            "[1, 2, 10, 3, 4, 5, 6, 7]\n",
            "2\n",
            "[2, 10, 3, 4, 5, 6, 7]\n",
            "[2, 10, 3, 4, 5, 6]\n",
            "6\n"
          ]
        }
      ],
      "source": [
        "mylist=[1,2,3,4]\n",
        "print(mylist)\n",
        "\n",
        "mylist.append(5) #append function: used to append/add one elements to the end of the list.\n",
        "print(mylist)\n",
        "\n",
        "mylist.insert(2,10) #inserted 10 to the second index\n",
        "print(mylist)\n",
        "\n",
        "mylist.extend([6,7]) #appending more than one element to the end\n",
        "print(mylist)\n",
        "\n",
        "print(mylist.index(10)) #printing the index of a specified element (index of 10 is 2)\n",
        "\n",
        "mylist.remove(1) #removing the element 1. NOT THE INDEX BUT THE ELEMENT.\n",
        "print(mylist)\n",
        "\n",
        "mylist.pop() #removing the last element\n",
        "print(mylist)\n",
        "\n",
        "l=len(mylist) #store the length of the list\n",
        "print(l)"
      ]
    },
    {
      "cell_type": "markdown",
      "source": [],
      "metadata": {
        "id": "q0nRwIwPoi6z"
      }
    },
    {
      "cell_type": "markdown",
      "source": [
        "**List of Lists**, basically matrix.  \n",
        "A nested list is a list within another list, which is useful for representing matrices or tables. We can access nested elements by chaining indexes."
      ],
      "metadata": {
        "id": "p9peYMwKK-tA"
      }
    },
    {
      "cell_type": "code",
      "source": [
        "matrix = [[1,2,3],[4,5,6]]\n",
        "print(matrix)\n",
        "#this is a 2x3 matrix."
      ],
      "metadata": {
        "colab": {
          "base_uri": "https://localhost:8080/"
        },
        "id": "5EfQw13NLwzH",
        "outputId": "d684a13c-aec0-4500-e20c-a64bdfea435c"
      },
      "execution_count": null,
      "outputs": [
        {
          "output_type": "stream",
          "name": "stdout",
          "text": [
            "[[1, 2, 3], [4, 5, 6]]\n"
          ]
        }
      ]
    },
    {
      "cell_type": "markdown",
      "source": [
        "\n",
        "**Accessing elements in a matrix:**\n",
        "we use the insex of the inner list and then the index of the item inside the inner list.  \n",
        "eg:"
      ],
      "metadata": {
        "id": "xX9c0GEAMGNU"
      }
    },
    {
      "cell_type": "code",
      "source": [
        "element=matrix[1][0]\n",
        "print(element) # output will be 4. ie, \"0 indexed element in the 1 indexed list\"\n",
        "\n",
        "matrix2 = [\n",
        "    [1, 2, 3],\n",
        "    [4, 5, 6],\n",
        "    [7, 8, 9]\n",
        "]\n",
        "print(matrix2[2][1]) #third row second element, 8.\n",
        "#this is a 3x3 matrix."
      ],
      "metadata": {
        "colab": {
          "base_uri": "https://localhost:8080/"
        },
        "id": "kmiI4eenMdnV",
        "outputId": "71c4bc6b-091d-41c4-c89d-ca2e4e3763a0"
      },
      "execution_count": null,
      "outputs": [
        {
          "output_type": "stream",
          "name": "stdout",
          "text": [
            "4\n",
            "8\n"
          ]
        }
      ]
    },
    {
      "cell_type": "markdown",
      "source": [
        "**List Slicing :**  \n",
        "Python list slicing is fundamental concept that let us easily access specific elements in a list.   \n",
        "\n",
        "syntax:  `list_name[start : end : step]`\n",
        "\n",
        "eg:\n",
        "Get the items from a list starting at position 1 and ending at position 4 (not including )."
      ],
      "metadata": {
        "id": "XFW2dUMwyDEE"
      }
    },
    {
      "cell_type": "code",
      "source": [
        "a=['apple','banana',2,3,4,'thenga']\n",
        "print(a[1:4])"
      ],
      "metadata": {
        "colab": {
          "base_uri": "https://localhost:8080/"
        },
        "id": "IvDxQxxuyZVf",
        "outputId": "7389a486-0629-439a-cdd1-17793d0def5e"
      },
      "execution_count": null,
      "outputs": [
        {
          "output_type": "stream",
          "name": "stdout",
          "text": [
            "['banana', 2, 3]\n"
          ]
        }
      ]
    },
    {
      "cell_type": "markdown",
      "source": [
        "We can also slice before/after a specific position."
      ],
      "metadata": {
        "id": "b78VtnNZy0Yx"
      }
    },
    {
      "cell_type": "code",
      "source": [
        "a1=['apple','banana','chakka',4,5,6,7,8,'orange']\n",
        "b=a1[2:] #b is the elements of 'a' from the index 2.\n",
        "print(b)\n",
        "\n",
        "c=a1[:4] #c is the elements of 'a' upto the index 4 (without the 4th)\n",
        "print(c)"
      ],
      "metadata": {
        "colab": {
          "base_uri": "https://localhost:8080/"
        },
        "id": "0Yte2WMOy5qw",
        "outputId": "47285a19-7f02-4df4-807b-72070d5463d0"
      },
      "execution_count": null,
      "outputs": [
        {
          "output_type": "stream",
          "name": "stdout",
          "text": [
            "['chakka', 4, 5, 6, 7, 8, 'orange']\n",
            "['apple', 'banana', 'chakka', 4]\n"
          ]
        }
      ]
    },
    {
      "cell_type": "markdown",
      "source": [
        "Now, using the step parameter to access elements in particular interval (step)."
      ],
      "metadata": {
        "id": "cNTA9n_vz8AC"
      }
    },
    {
      "cell_type": "code",
      "source": [
        "a2=[1,2,3,4,5,6,7,8,9]\n",
        "b1=a2[::2] #b1 is the list of every second element of a2 from beginning.\n",
        "print(b1)\n",
        "c1=a2[2:8:3] #c1 is the list of every third element of a2 in between 2nd and 8th index, excluding 8th.\n",
        "print(c1)"
      ],
      "metadata": {
        "colab": {
          "base_uri": "https://localhost:8080/"
        },
        "id": "1ZbMms6F0FAy",
        "outputId": "6b6b9334-2114-4ada-8923-540b349da29b"
      },
      "execution_count": null,
      "outputs": [
        {
          "output_type": "stream",
          "name": "stdout",
          "text": [
            "[1, 3, 5, 7, 9]\n",
            "[3, 6]\n"
          ]
        }
      ]
    },
    {
      "cell_type": "markdown",
      "source": [
        "**Negative Indexing**  \n",
        "Negative indexing is useful for accessing elements from the end of the list. The last element has an index of -1, the second last element -2, and so on.  \n",
        "eg:"
      ],
      "metadata": {
        "id": "AcbFhB3p1Egx"
      }
    },
    {
      "cell_type": "code",
      "source": [
        "a3= [1, 2, 3, 4, 5, 6, 7, 8, 9]\n",
        "b2 = a3[-3:] #start from index -3, upto the last\n",
        "print(b2)\n",
        "\n",
        "c2 = a3[:-4] #start from beginning upto index -4 (fourth last)\n",
        "print(c2)\n",
        "\n",
        "d2 = a3[-5:-1] #start from index -5 to index -1\n",
        "print(d2)\n",
        "\n",
        "e2 = a3[-6:-2:2] #start from index -6 to index -2, every second element\n",
        "print(e2)"
      ],
      "metadata": {
        "colab": {
          "base_uri": "https://localhost:8080/"
        },
        "id": "nUtVNHJY1SSV",
        "outputId": "8d387284-e964-437f-d33d-ca6a5ff0552a"
      },
      "execution_count": null,
      "outputs": [
        {
          "output_type": "stream",
          "name": "stdout",
          "text": [
            "[7, 8, 9]\n",
            "[1, 2, 3, 4, 5]\n",
            "[5, 6, 7, 8]\n",
            "[4, 6]\n"
          ]
        }
      ]
    },
    {
      "cell_type": "markdown",
      "source": [
        "2. **TUPLES**"
      ],
      "metadata": {
        "id": "Gu_Cv--V6dw-"
      }
    },
    {
      "cell_type": "markdown",
      "source": [
        "A tuple in Python is an immutable ordered collection of elements. Tuples are similar to lists, but unlike lists, they cannot be changed after their creation (i.e., they are immutable). Tuples can hold elements of different data types. The main characteristics of tuples are being ordered , heterogeneous and immutable."
      ],
      "metadata": {
        "id": "39ACcc1O6pah"
      }
    },
    {
      "cell_type": "code",
      "source": [
        "tup=(1,2,3,'apple','banana')\n",
        "print(tup)\n",
        "\n",
        "li=[1,2,3,'hello']\n",
        "t=tuple(li) #converting a list to a tuple\n",
        "print(t)\n",
        "\n",
        "tup=tuple('hello') #converting a string to tuple\n",
        "print(tup)"
      ],
      "metadata": {
        "colab": {
          "base_uri": "https://localhost:8080/"
        },
        "id": "PCZjklxw60rd",
        "outputId": "8bb83176-a6e0-4d21-bbfd-cebda83bb227"
      },
      "execution_count": null,
      "outputs": [
        {
          "output_type": "stream",
          "name": "stdout",
          "text": [
            "(1, 2, 3, 'apple', 'banana')\n",
            "(1, 2, 3, 'hello')\n",
            "('h', 'e', 'l', 'l', 'o')\n"
          ]
        }
      ]
    },
    {
      "cell_type": "markdown",
      "source": [
        "Python Tuple is a collection of objects separated by commas. A tuple is similar to a Python list in terms of indexing, nested objects, and repetition but the main difference between both is Python tuple is immutable, unlike the Python list which is mutable  \n",
        "*  Like Lists, tuples are ordered and we can access their elements using their index values  \n",
        "*  We cannot update items to a tuple once it is created.   \n",
        "*  Tuples cannot be appended or extended.  \n",
        "*  We cannot remove items from a tuple once it is created.\n"
      ],
      "metadata": {
        "id": "2T7jfFgu72S5"
      }
    },
    {
      "cell_type": "markdown",
      "source": [
        "**Accessing items:**"
      ],
      "metadata": {
        "id": "c6LE_Y-K8frT"
      }
    },
    {
      "cell_type": "code",
      "source": [
        "tup = (10, 5, 20,34,54,235,12)\n",
        "print(\"Value in tup[0] = \", tup[0])\n",
        "print(\"Value in tup[1] = \", tup[1])\n",
        "print(\"Value in tup[2] = \", tup[2])\n",
        "\n",
        "print(\"Value in tup[-1] = \", tup[-1])\n",
        "print(\"Value in tup[-2] = \", tup[-2])\n",
        "print(\"Value in tup[-3] = \", tup[-3]) #accessing using negative indexing\n"
      ],
      "metadata": {
        "colab": {
          "base_uri": "https://localhost:8080/"
        },
        "id": "DSZa7E048h9C",
        "outputId": "59e3b6d7-c351-4617-82a2-2db1edbabacc"
      },
      "execution_count": null,
      "outputs": [
        {
          "output_type": "stream",
          "name": "stdout",
          "text": [
            "Value in tup[0] =  10\n",
            "Value in tup[1] =  5\n",
            "Value in tup[2] =  20\n",
            "Value in tup[-1] =  12\n",
            "Value in tup[-2] =  235\n",
            "Value in tup[-3] =  54\n"
          ]
        }
      ]
    },
    {
      "cell_type": "markdown",
      "source": [
        "**Operations:**"
      ],
      "metadata": {
        "id": "-mNqIQbA84hO"
      }
    },
    {
      "cell_type": "code",
      "source": [
        "tup1=(1,2,3,4,5)\n",
        "tup2=('apple','banana','cat')\n",
        "tup3=tup1+tup2 # concatanation\n",
        "print(tup3)\n",
        "\n",
        "tup3=(tup1 , tup2)\n",
        "print(tup3) # nested tuples\n",
        "\n",
        "print(tup1[1:]) #slicing. same as lists\n",
        "print(tup1[:3])\n",
        "print(tup1[1::2])\n",
        "print(tup1[::-1]) #reverse using slicing\n",
        "\n",
        "tup1=tuple() #clearing the tuple\n",
        "print(tup1)"
      ],
      "metadata": {
        "colab": {
          "base_uri": "https://localhost:8080/"
        },
        "id": "k7fROkc2-2Cb",
        "outputId": "2f23cb94-d1b7-41fc-c43b-ecff37070594"
      },
      "execution_count": null,
      "outputs": [
        {
          "output_type": "stream",
          "name": "stdout",
          "text": [
            "(1, 2, 3, 4, 5, 'apple', 'banana', 'cat')\n",
            "((1, 2, 3, 4, 5), ('apple', 'banana', 'cat'))\n",
            "(2, 3, 4, 5)\n",
            "(1, 2, 3)\n",
            "(2, 4)\n",
            "(5, 4, 3, 2, 1)\n",
            "()\n"
          ]
        }
      ]
    },
    {
      "cell_type": "markdown",
      "source": [
        "**3. Dictionaries**"
      ],
      "metadata": {
        "id": "wjpbKOoiNEYu"
      }
    },
    {
      "cell_type": "markdown",
      "source": [
        "A Python dictionary is a data structure that stores the value in key: value pairs. Values in a dictionary can be of any data type and can be duplicated, whereas keys can't be repeated and must be immutable."
      ],
      "metadata": {
        "id": "DsvlBhDqNLc5"
      }
    },
    {
      "cell_type": "code",
      "source": [
        "d={1:'apple',2:'banana',3:'chicken'} #creation of dictionary\n",
        "print(d)\n",
        "\n",
        "d=dict(a='apple',b='banana',c='chicken',d='dog',e='eli',f='fafa') #create dictionary using dict()\n",
        "print(d)"
      ],
      "metadata": {
        "colab": {
          "base_uri": "https://localhost:8080/"
        },
        "id": "_BX8FWcZNM74",
        "outputId": "a974ddbb-f340-4623-98a2-144ea30b11f8"
      },
      "execution_count": null,
      "outputs": [
        {
          "output_type": "stream",
          "name": "stdout",
          "text": [
            "{1: 'apple', 2: 'banana', 3: 'chicken'}\n",
            "{'a': 'apple', 'b': 'banana', 'c': 'chicken', 'd': 'dog', 'e': 'eli', 'f': 'fafa'}\n"
          ]
        }
      ]
    },
    {
      "cell_type": "markdown",
      "source": [
        "We can access a value from a dictionary by using the key within square brackets orget()method."
      ],
      "metadata": {
        "id": "BIrUnkkGN1LM"
      }
    },
    {
      "cell_type": "code",
      "source": [
        "d=dict(a='apple',b='banana',c='chicken',d='dog',e='eli',f='fafa') #create dictionary using dict()\n",
        "print(d['a'])\n",
        "print(d.get('b'))"
      ],
      "metadata": {
        "colab": {
          "base_uri": "https://localhost:8080/"
        },
        "id": "IEfa_VWnN2Co",
        "outputId": "0b93792e-15ad-4bd3-e00a-c2f32404a68a"
      },
      "execution_count": null,
      "outputs": [
        {
          "output_type": "stream",
          "name": "stdout",
          "text": [
            "apple\n",
            "banana\n"
          ]
        }
      ]
    },
    {
      "cell_type": "markdown",
      "source": [
        "Adding , updating:"
      ],
      "metadata": {
        "id": "OSKJ5NtLOUtZ"
      }
    },
    {
      "cell_type": "code",
      "source": [
        "d=dict(a='apple',b='banana',c='chicken',d='dog',e='eli',f='fafa') #create dictionary using dict()\n",
        "d['g']='giraffe' #added new key-value pair\n",
        "print(d)\n",
        "\n",
        "d['a']='antartica' #updated\n",
        "print(d)"
      ],
      "metadata": {
        "colab": {
          "base_uri": "https://localhost:8080/"
        },
        "id": "2ViLfpoPOXaV",
        "outputId": "ca1db657-c73c-4b09-eb1d-075303b837f8"
      },
      "execution_count": null,
      "outputs": [
        {
          "output_type": "stream",
          "name": "stdout",
          "text": [
            "{'a': 'apple', 'b': 'banana', 'c': 'chicken', 'd': 'dog', 'e': 'eli', 'f': 'fafa', 'g': 'giraffe'}\n",
            "{'a': 'antartica', 'b': 'banana', 'c': 'chicken', 'd': 'dog', 'e': 'eli', 'f': 'fafa', 'g': 'giraffe'}\n"
          ]
        }
      ]
    },
    {
      "cell_type": "markdown",
      "source": [
        "We can remove items from dictionary using the following methods:\n",
        "\n",
        " *   del: Removes an item by key.\n",
        " *  pop(): Removes an item by key and returns its value.\n",
        " *  clear(): Empties the dictionary.\n",
        " *  popitem(): Removes and returns the last key-value pair."
      ],
      "metadata": {
        "id": "tteDyYHEO-3j"
      }
    },
    {
      "cell_type": "code",
      "source": [
        "d=dict(a='apple',b='banana',c='chicken',d='dog',e='eli',f='fafa') #create dictionary using dict()\n",
        "del d['a'] #removed 'a' and its value\n",
        "print(d)\n",
        "\n",
        "value = d.pop('b') #removed b from the dictionary and stored its value\n",
        "print(value)\n",
        "\n",
        "key,value=d.popitem() #store the last key and value.\n",
        "print(f\"the last  key is {key} and its value is {value} \")\n",
        "\n",
        "d.clear() #clear the dictionary\n",
        "print(d)\n"
      ],
      "metadata": {
        "colab": {
          "base_uri": "https://localhost:8080/"
        },
        "id": "vARiBrziPHMz",
        "outputId": "ba302562-b0e8-438a-9d93-99d4d7102bf7"
      },
      "execution_count": null,
      "outputs": [
        {
          "output_type": "stream",
          "name": "stdout",
          "text": [
            "{'b': 'banana', 'c': 'chicken', 'd': 'dog', 'e': 'eli', 'f': 'fafa'}\n",
            "banana\n",
            "the last  key is f and its value is fafa \n",
            "{}\n"
          ]
        }
      ]
    },
    {
      "cell_type": "markdown",
      "source": [
        "We can iterate over keys [using keys() method] , values [using values() method] or both [using item() method] with a for loop."
      ],
      "metadata": {
        "id": "iEJaD1aTQyHL"
      }
    },
    {
      "cell_type": "code",
      "source": [
        "d=dict(a='apple',b='banana',c='chakka',d='dino')\n",
        "print('keys:')\n",
        "for key in d.keys():\n",
        "  print(key)\n",
        "print('values: ')\n",
        "for value in d.values():\n",
        "  print(value)\n",
        "print('key-value pairs: ')\n",
        "for key,value in d.items():\n",
        "  print(f\"{key} : {value}\")"
      ],
      "metadata": {
        "colab": {
          "base_uri": "https://localhost:8080/"
        },
        "id": "oWO1tEOtQ0NE",
        "outputId": "1cac62b0-aafe-45cf-ae9b-cfaa86400f6e"
      },
      "execution_count": null,
      "outputs": [
        {
          "output_type": "stream",
          "name": "stdout",
          "text": [
            "keys:\n",
            "a\n",
            "b\n",
            "c\n",
            "d\n",
            "values: \n",
            "apple\n",
            "banana\n",
            "chakka\n",
            "dino\n",
            "key-value pairs: \n",
            "a : apple\n",
            "b : banana\n",
            "c : chakka\n",
            "d : dino\n"
          ]
        }
      ]
    },
    {
      "cell_type": "markdown",
      "source": [
        "**Reverse-Lookup:**  \n",
        "Reverse lookup in Python dictionaries means finding the key(s) associated with a given value.\n"
      ],
      "metadata": {
        "id": "QVNyCRx5W1RI"
      }
    },
    {
      "cell_type": "code",
      "source": [
        "d=dict(a='apple',b='banana',c='chakka',d='dino')\n",
        "def reverse_lookup(d,value):\n",
        "  for key in d.keys():\n",
        "    if d[key]==value:\n",
        "      return key\n",
        "reverse_lookup(d,'banana')"
      ],
      "metadata": {
        "colab": {
          "base_uri": "https://localhost:8080/",
          "height": 35
        },
        "id": "wGndGjXuXaef",
        "outputId": "8c9234b6-1cdb-44bc-a0ff-8702525c05d0"
      },
      "execution_count": null,
      "outputs": [
        {
          "output_type": "execute_result",
          "data": {
            "text/plain": [
              "'b'"
            ],
            "application/vnd.google.colaboratory.intrinsic+json": {
              "type": "string"
            }
          },
          "metadata": {},
          "execution_count": 29
        }
      ]
    },
    {
      "cell_type": "markdown",
      "source": [
        "If you need to flip the dict (value → key), assuming values are unique:"
      ],
      "metadata": {
        "id": "T5GZXcPjY_R-"
      }
    },
    {
      "cell_type": "code",
      "source": [
        "d=dict(a='apple',b='banana',c='chakka',d='dino')\n",
        "reversed_d= {v:k for k,v in d.items()}\n",
        "print(reversed_d)"
      ],
      "metadata": {
        "colab": {
          "base_uri": "https://localhost:8080/"
        },
        "id": "RIGPRNy1ZAOL",
        "outputId": "8ffda680-4217-4962-a138-8edea98ad309"
      },
      "execution_count": null,
      "outputs": [
        {
          "output_type": "stream",
          "name": "stdout",
          "text": [
            "{'apple': 'a', 'banana': 'b', 'chakka': 'c', 'dino': 'd'}\n"
          ]
        }
      ]
    },
    {
      "cell_type": "markdown",
      "source": [
        "**4. SETS**  \n",
        "Python set is an unordered collection of multiple items having different datatypes. In Python, sets are mutable, unindexed and do not contain duplicates. The order of elements in a set is not preserved and can change."
      ],
      "metadata": {
        "id": "eGsmNlZ8ZyRx"
      }
    },
    {
      "cell_type": "code",
      "source": [
        "set1={}\n",
        "print(set1)\n",
        "\n",
        "set1=set(\"HelloThere\") #set from a string\n",
        "print(set1)\n",
        "\n",
        "set1=set(['apple','ant',1,2,3,4,'ant']) #set from a list\n",
        "print(set1)\n",
        "\n",
        "set1=set((1,2,3,4,'ant','man',1,2,3)) #set from a tuple\n",
        "print(set1)\n",
        "\n",
        "d={1:'ant',2:'spider',3:'man'} #set from dictionary\n",
        "print(set(d))"
      ],
      "metadata": {
        "colab": {
          "base_uri": "https://localhost:8080/"
        },
        "id": "4pZx2frDaH6z",
        "outputId": "8bfbb457-86c2-438b-9fe7-5bc3f3c7406f"
      },
      "execution_count": null,
      "outputs": [
        {
          "output_type": "stream",
          "name": "stdout",
          "text": [
            "{}\n",
            "{'o', 'e', 'h', 'l', 'r', 'T', 'H'}\n",
            "{1, 2, 3, 'ant', 4, 'apple'}\n",
            "{1, 2, 'ant', 3, 4, 'man'}\n",
            "{1, 2, 3}\n"
          ]
        }
      ]
    },
    {
      "cell_type": "markdown",
      "source": [
        "Set operations:"
      ],
      "metadata": {
        "id": "P_tD0GcngFx8"
      }
    },
    {
      "cell_type": "code",
      "source": [
        "s={1,2,3,4}\n",
        "s.add(6) #add a single element\n",
        "print(s)\n",
        "\n",
        "s.update([7,8]) #add multiple elements\n",
        "print(s)\n",
        "\n",
        "s.remove(3) #removed 3 from set\n",
        "print(s)\n",
        "\n",
        "s.discard(5) #removed 5 from set\n",
        "print(s)\n",
        "\n",
        "value=s.pop()  #removed arbitraryly.\n",
        "print(value)\n",
        "print(s)\n",
        "\n",
        "s.clear()\n",
        "print(s)"
      ],
      "metadata": {
        "colab": {
          "base_uri": "https://localhost:8080/"
        },
        "id": "4e3LLuHkgIu1",
        "outputId": "54d4a153-c554-4b41-eb99-13d1005f8aec"
      },
      "execution_count": null,
      "outputs": [
        {
          "output_type": "stream",
          "name": "stdout",
          "text": [
            "{1, 2, 3, 4, 6}\n",
            "{1, 2, 3, 4, 6, 7, 8}\n",
            "{1, 2, 4, 6, 7, 8}\n",
            "{1, 2, 4, 6, 7, 8}\n",
            "1\n",
            "{2, 4, 6, 7, 8}\n",
            "set()\n"
          ]
        }
      ]
    },
    {
      "cell_type": "markdown",
      "source": [
        "Advantages of Set in Python\n",
        "\n",
        " *   Unique Elements: Sets can only contain unique elements, so they can be useful for removing duplicates from a collection of data.\n",
        " *   Fast Membership Testing: Sets are optimized for fast membership testing, so they can be useful for determining whether a value is in a collection or not.\n",
        " *   Mathematical Set Operations: Sets support mathematical set operations like union, intersection and difference, which can be useful for working with sets of data.\n",
        " *   Mutable: Sets are mutable, which means that you can add or remove elements from a set after it has been created.\n",
        "\n",
        "Disadvantages of Sets in Python\n",
        "\n",
        " *   Unordered: Sets are unordered, which means that you cannot rely on the order of the data in the set. This can make it difficult to access or process data in a specific order.\n",
        " *   Limited Functionality: Sets have limited functionality compared to lists, as they do not support methods like append() or pop(). This can make it more difficult to modify or manipulate data stored in a set.\n",
        " *   Memory Usage: Sets can consume more memory than lists, especially for small datasets. This is because each element in a set requires additional memory to store a hash value.\n",
        " *   Less Commonly Used: Sets are less commonly used than lists and dictionaries in Python, which means that there may be fewer resources or libraries available for working with them. This can make it more difficult to find solutions to problems or to get help with debugging."
      ],
      "metadata": {
        "id": "KFlosS0piNY5"
      }
    },
    {
      "cell_type": "markdown",
      "source": [
        "# **MODULE 4**\n",
        "\n",
        "> only focusing on Numpy and matplotlib. Theory go and read from somewhere else.\n",
        "\n"
      ],
      "metadata": {
        "id": "CgpKaravi-pm"
      }
    },
    {
      "cell_type": "markdown",
      "source": [
        "**NUMPY**  \n",
        "Numpy is a general-purpose array-processing package. It provides a high-performance multidimensional array object, and tools for working with these arrays. It is the fundamental package for scientific computing with Python.  \n",
        "*  Arrays in Numpy\n",
        "\n",
        " * Array in Numpy is a table of elements (usually numbers), **all of the same type**, indexed by a tuple of positive integers. In Numpy, **number of dimensions** of the array is called **rank of the array**. A tuple of integers giving the size of the array along each dimension is known as shape of the array. An **array class in Numpy** is called as **ndarray**. Elements in Numpy arrays are accessed by using square brackets and can be initialized by using nested Python Lists."
      ],
      "metadata": {
        "id": "Zwun1a_sjP2N"
      }
    },
    {
      "cell_type": "code",
      "source": [
        "import numpy as np\n",
        "arr=np.array([1,2,3,4,5]) #rank 1 array\n",
        "print(arr)\n",
        "\n",
        "arr=np.array([[1,2,3],[4,5,6]]) #rank 2 array\n",
        "print(arr)"
      ],
      "metadata": {
        "colab": {
          "base_uri": "https://localhost:8080/"
        },
        "id": "GnFAvCsQkKhB",
        "outputId": "fb32f9fb-1ad9-4b0f-ddc7-23087a429a58"
      },
      "execution_count": null,
      "outputs": [
        {
          "output_type": "stream",
          "name": "stdout",
          "text": [
            "[1 2 3 4 5]\n",
            "[[1 2 3]\n",
            " [4 5 6]]\n"
          ]
        }
      ]
    },
    {
      "cell_type": "markdown",
      "source": [
        "**Accessing the array Index**\n",
        "\n",
        "In a numpy array, indexing or accessing the array index can be done in multiple ways. To print a range of an array, **slicing** is done.\n",
        " *  Slicing of an array is defining a range in a new array which is used to print a range of elements from the original array.\n",
        " *  Since, sliced array holds a range of elements of the original array, modifying content with the help of sliced array modifies the original array content."
      ],
      "metadata": {
        "id": "DemMJcLXmiXV"
      }
    },
    {
      "cell_type": "code",
      "source": [
        "import numpy as np\n",
        "arr=np.array([[1,2,3],[4,5,6],[7,8,9]])\n",
        "print(arr) #original array\n",
        "\n",
        "arr1=arr[:2, 1:] #sliced to use only the first two row and inside, column 1 to last\n",
        "print(arr1)"
      ],
      "metadata": {
        "colab": {
          "base_uri": "https://localhost:8080/"
        },
        "id": "1eFtdioom0Ao",
        "outputId": "9b9ad7ca-db4f-4c06-c74d-7f2ca4e99c24"
      },
      "execution_count": null,
      "outputs": [
        {
          "output_type": "stream",
          "name": "stdout",
          "text": [
            "[[1 2 3]\n",
            " [4 5 6]\n",
            " [7 8 9]]\n",
            "[[2 3]\n",
            " [5 6]]\n"
          ]
        }
      ]
    },
    {
      "cell_type": "markdown",
      "source": [
        "**Basic Array Operations**"
      ],
      "metadata": {
        "id": "tYL8DKT5zUZP"
      }
    },
    {
      "cell_type": "code",
      "source": [
        "import numpy as np\n",
        "a=np.array([[1,2,3],[0,9,8]])\n",
        "b=np.array([[4,5,6],[7,6,5]])\n",
        "print(a+b) #addition\n",
        "print(\"-----------------\")\n",
        "\n",
        "print(a-b) #subtraction\n",
        "print(\"-----------------\")\n",
        "\n",
        "print(a*b) #multiplication\n",
        "print(\"-----------------\")\n",
        "\n",
        "print(a/b) #division\n",
        "print(\"-----------------\")\n",
        "\n",
        "print(np.sqrt(a)) #square root of elements of a\n",
        "print(\"-----------------\")\n",
        "\n",
        "print(np.sum(a)) #sum of all elements\n",
        "print(\"-----------------\")\n",
        "\n",
        "print(a.T) #transpose of the array\n",
        "print(\"-----------------\")\n",
        "\n",
        "#creating random arrays\n",
        "\n",
        "arr0=np.random.rand(5) #1D array\n",
        "print(arr0)\n",
        "print(\"-----------------\")\n",
        "\n",
        "arr1=np.random.rand(2,3) #2D array of 2x3\n",
        "print(arr1)\n",
        "print(\"-----------------\")\n",
        "\n",
        "arr2=np.random.rand(4,2,5) #3D array : 4 arrays each of 2 rows and 5 columns\n",
        "print(arr2)\n"
      ],
      "metadata": {
        "colab": {
          "base_uri": "https://localhost:8080/"
        },
        "id": "XpXew9gCzX7j",
        "outputId": "2e6ee69b-040b-4869-8df6-95284c5f769b"
      },
      "execution_count": null,
      "outputs": [
        {
          "output_type": "stream",
          "name": "stdout",
          "text": [
            "[[ 5  7  9]\n",
            " [ 7 15 13]]\n",
            "-----------------\n",
            "[[-3 -3 -3]\n",
            " [-7  3  3]]\n",
            "-----------------\n",
            "[[ 4 10 18]\n",
            " [ 0 54 40]]\n",
            "-----------------\n",
            "[[0.25 0.4  0.5 ]\n",
            " [0.   1.5  1.6 ]]\n",
            "-----------------\n",
            "[[1.         1.41421356 1.73205081]\n",
            " [0.         3.         2.82842712]]\n",
            "-----------------\n",
            "23\n",
            "-----------------\n",
            "[[1 0]\n",
            " [2 9]\n",
            " [3 8]]\n",
            "-----------------\n",
            "[0.93855529 0.09952244 0.3030214  0.91984353 0.56889383]\n",
            "-----------------\n",
            "[[0.5125222  0.82200916 0.16450753]\n",
            " [0.27088211 0.70871153 0.46584353]]\n",
            "-----------------\n",
            "[[[0.22981025 0.28879784 0.63094582 0.73399611 0.45962057]\n",
            "  [0.1220214  0.26747069 0.45486194 0.39301484 0.15724312]]\n",
            "\n",
            " [[0.78258612 0.70817537 0.5336488  0.40308012 0.77969691]\n",
            "  [0.77272673 0.75228167 0.08292363 0.82799071 0.40352095]]\n",
            "\n",
            " [[0.52978091 0.33231969 0.28566662 0.92914724 0.61003145]\n",
            "  [0.26382512 0.80047156 0.76246567 0.42207455 0.41203577]]\n",
            "\n",
            " [[0.15585896 0.39033138 0.53377413 0.61669882 0.32720677]\n",
            "  [0.39214332 0.4362216  0.23240707 0.46564416 0.5334678 ]]]\n"
          ]
        }
      ]
    },
    {
      "cell_type": "markdown",
      "source": [
        "for more 👉 [click here](https://www.geeksforgeeks.org/python-numpy/)"
      ],
      "metadata": {
        "id": "U59lhEr60lbn"
      }
    },
    {
      "cell_type": "markdown",
      "source": [
        "**MATPLOTLIB**  \n",
        "Matplotlib is an open-source visualization library for the Python programming language, widely used for creating static, animated and interactive plots.\n"
      ],
      "metadata": {
        "id": "TZqSYCg40zLh"
      }
    },
    {
      "cell_type": "markdown",
      "source": [
        "What is Matplotlib in Python used for?\n",
        "\n",
        "With Matplotlib, we can perform a wide range of visualization tasks, including:\n",
        "\n",
        " *   Creating basic plots such as line, bar and scatter plots.\n",
        " *   Customizing plots with labels, titles, legends and color schemes.\n",
        " *   Adjusting figure size, layout and aspect ratios.\n",
        " *   Saving plots in various formats like PNG, PDF and SVG.\n",
        " *   Combining multiple plots into subplots for better data representation.\n",
        " *   Creating interactive plots using the widget module.\n",
        "\n",
        "**Toolkits in Matplotlib**  \n",
        "Several toolkits extend Matplotlib's functionality, some of which are external downloads, while others are included with Matplotlib but have external dependencies. Here are some of the most notable toolkits:\n",
        "\n",
        "    Seaborn: A high-level statistical data visualization library built on top of Matplotlib, extremely popular for creating attractive and informative statistical graphics with minimal code.\n",
        "    Mplot3d: Integrated into Matplotlib itself, this toolkit is the go‑to choice for creating 3‑D plots with ease and flexibility.\n",
        "    GeoPandas: A library that leverages Matplotlib for geospatial plotting, simplifying the handling of geospatial data without needing a spatial database.\n",
        "    Cartopy: A modern mapping library offering an object‑oriented approach to map projections and geospatial data, largely replacing Basemap in new projects.\n",
        "    Tikzplotlib: A niche toolkit that converts Matplotlib figures into LaTeX-friendly TikZ/PGFPlots code, ideal for producing high-quality, publication-ready plots."
      ],
      "metadata": {
        "id": "TXq_8Ofy3NWT"
      }
    },
    {
      "cell_type": "code",
      "source": [
        "from matplotlib import pyplot as plt\n",
        "x=[2,3,4,5,7,8,10]\n",
        "y=[5,3,6,7,8,12,23]\n",
        "plt.plot(x,y) #line plot\n",
        "plt.show()\n",
        "\n",
        "plt.bar(x,y) #bar plot\n",
        "plt.show()\n",
        "\n",
        "plt.scatter(x,y) #scatter plot\n",
        "plt.show()"
      ],
      "metadata": {
        "colab": {
          "base_uri": "https://localhost:8080/",
          "height": 745
        },
        "collapsed": true,
        "id": "dtHFyWFM3qKp",
        "outputId": "4822aff9-f360-4fbf-b169-aa023ec98b56"
      },
      "execution_count": null,
      "outputs": [
        {
          "output_type": "display_data",
          "data": {
            "text/plain": [
              "<Figure size 640x480 with 1 Axes>"
            ],
            "image/png": "[encoded data removed]"
          },
          "metadata": {}
        },
        {
          "output_type": "display_data",
          "data": {
            "text/plain": [
              "<Figure size 640x480 with 1 Axes>"
            ],
            "image/png": "[encoded data removed]"
          },
          "metadata": {}
        },
        {
          "output_type": "display_data",
          "data": {
            "text/plain": [
              "<Figure size 640x480 with 1 Axes>"
            ],
            "image/png": "[encoded data removed]"
          },
          "metadata": {}
        }
      ]
    },
    {
      "cell_type": "code",
      "source": [
        "from matplotlib import pyplot as plt\n",
        "data=[2,3,4,5,2,3,6,7,8,10,4]\n",
        "plt.hist(data,bins=10,edgecolor='black',color='green') #histogram\n",
        "plt.show()"
      ],
      "metadata": {
        "colab": {
          "base_uri": "https://localhost:8080/",
          "height": 258
        },
        "collapsed": true,
        "id": "UEJXV28aDHv9",
        "outputId": "e261faa1-50e6-484c-89b5-9af479b753ee"
      },
      "execution_count": null,
      "outputs": [
        {
          "output_type": "display_data",
          "data": {
            "text/plain": [
              "<Figure size 640x480 with 1 Axes>"
            ],
            "image/png": "[encoded data removed]"
          },
          "metadata": {}
        }
      ]
    },
    {
      "cell_type": "markdown",
      "source": [
        "**Pandas Library**"
      ],
      "metadata": {
        "id": "UE2zZsYlEX0a"
      }
    }
  ]
}